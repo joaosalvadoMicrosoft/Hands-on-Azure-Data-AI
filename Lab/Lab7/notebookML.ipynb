{
  "cells": [
    {
      "cell_type": "markdown",
      "source": [
        "# Predict NYC Taxi Tips \r\n",
        "The notebook ingests, prepares and then trains a model based on the dataset previsously configured that tracks NYC Yellow Taxi trips and various attributes around them. The goal is to for a given trip, predict whether there will be a tip or not. The model then will be converted to ONNX format and tracked by MLFlow.\r\n",
        "We will later use the ONNX model for inferencing in Azure Synapse SQL Pool using the new model scoring wizard.\r\n",
        "## Note:\r\n",
        "**Please note that for successful conversion to ONNX, this notebook requires using  Scikit-learn version 0.20.3.**\r\n",
        "This is already included in the \"Python 3.6 - AzureML\" Confirm that this is selected and that you have already attached the compute. \r\n",
        "\r\n"
      ],
      "metadata": {
        "nteract": {
          "transient": {
            "deleting": false
          }
        }
      }
    },
    {
      "cell_type": "markdown",
      "source": [
        "## Load data\r\n",
        "Get a sample data of nyc yellow taxi from Azure ML Dataset. You will need to restart the Kernel! Do it by changing the Kernel on the top corner on the rigth.s"
      ],
      "metadata": {
        "nteract": {
          "transient": {
            "deleting": false
          }
        }
      }
    },
    {
      "cell_type": "code",
      "source": [
        "#%pip list\n",
        "%pip install scikit-learn==0.20.3"
      ],
      "outputs": [],
      "execution_count": 20,
      "metadata": {
        "collapsed": true,
        "jupyter": {
          "source_hidden": false,
          "outputs_hidden": false
        },
        "nteract": {
          "transient": {
            "deleting": false
          }
        },
        "gather": {
          "logged": 1608049546567
        }
      }
    },
    {
      "cell_type": "code",
      "source": [
        "from azureml.core import Dataset, Run, Workspace\r\n",
        "\r\n",
        "\r\n",
        "# DataSet name\r\n",
        "\r\n",
        "\r\n",
        "dataset_naTaxiH1Curatedrated1'\r\n",
        "\r\n",
        "ws = Workspace.from_config()\r\n",
        "\r\n",
        "# Get a dataset by name\r\n",
        "df_dataset = Dataset.get_by_name(workspace = ws,\r\n",
        "                                 name = dataset_name, \r\n",
        "                                 version = 1)\r\n",
        "\r\n",
        "\r\n",
        "# Load a TabularDataset into pandas DataFrame\r\n",
        "df = df_dataset.to_pandas_dataframe()\r\n"
      ],
      "outputs": [],
      "execution_count": 106,
      "metadata": {
        "gather": {
          "logged": 1608052366074
        }
      }
    },
    {
      "cell_type": "code",
      "source": [
        "from IPython.display import display\r\n",
        "import numpy\r\n",
        "import pandas\r\n",
        "pandas.set_option('display.max_columns', Nonesampled_df = df.copy()\n",
        "display(sampled_df.head(5))\n",
        "ad(5))\r\n"
      ],
      "outputs": [
        {
          "output_type": "display_data",
          "data": {
            "text/plain": "   VendorID PickUpDateTime DropOffDateTime  PassengerCount  TripDistance  \\\n0         2     2019-01-17      2019-01-17               1          0.98   \n1         2     2019-01-09      2019-01-09               1          1.14   \n2         2     2019-01-14      2019-01-14               1          0.73   \n3         2     2019-01-12      2019-01-12               1          0.49   \n4         2     2019-01-12      2019-01-12               1          0.99   \n\n   PickUpLocationID            PickUpLocationZone PickUpLocationBorough  \\\n0               186  Penn Station/Madison Sq West             Manhattan   \n1                75             East Harlem South             Manhattan   \n2               148               Lower East Side             Manhattan   \n3               163                 Midtown North             Manhattan   \n4               238         Upper West Side North             Manhattan   \n\n   DropOffLocationID    DropOffLocationZone DropOffLocationBorough  \\\n0                 68           East Chelsea              Manhattan   \n1                 74      East Harlem North              Manhattan   \n2                144    Little Italy/NoLiTa              Manhattan   \n3                162           Midtown East              Manhattan   \n4                239  Upper West Side South              Manhattan   \n\n   PaymentTypeID PaymentTypeDescription  FareAmount  ExtraAmount  \\\n0              2                   Cash         5.5          0.0   \n1              2                   Cash         5.5          0.0   \n2              2                   Cash         5.0          0.0   \n3              2                   Cash         5.0          0.0   \n4              2                   Cash         6.0          0.0   \n\n   MTATaxAmount  TipAmount  TollsAmount  ImprovementSurchargeAmount  \\\n0           0.5        0.0          0.0                         0.3   \n1           0.5        0.0          0.0                         0.3   \n2           0.5        0.0          0.0                         0.3   \n3           0.5        0.0          0.0                         0.3   \n4           0.5        0.0          0.0                         0.3   \n\n   TotalRideAmount  \n0              6.3  \n1              6.3  \n2              5.8  \n3              5.8  \n4              6.8  ",
            "text/html": "<div>\n<style scoped>\n    .dataframe tbody tr th:only-of-type {\n        vertical-align: middle;\n    }\n\n    .dataframe tbody tr th {\n        vertical-align: top;\n    }\n\n    .dataframe thead th {\n        text-align: right;\n    }\n</style>\n<table border=\"1\" class=\"dataframe\">\n  <thead>\n    <tr style=\"text-align: right;\">\n      <th></th>\n      <th>VendorID</th>\n      <th>PickUpDateTime</th>\n      <th>DropOffDateTime</th>\n      <th>PassengerCount</th>\n      <th>TripDistance</th>\n      <th>PickUpLocationID</th>\n      <th>PickUpLocationZone</th>\n      <th>PickUpLocationBorough</th>\n      <th>DropOffLocationID</th>\n      <th>DropOffLocationZone</th>\n      <th>DropOffLocationBorough</th>\n      <th>PaymentTypeID</th>\n      <th>PaymentTypeDescription</th>\n      <th>FareAmount</th>\n      <th>ExtraAmount</th>\n      <th>MTATaxAmount</th>\n      <th>TipAmount</th>\n      <th>TollsAmount</th>\n      <th>ImprovementSurchargeAmount</th>\n      <th>TotalRideAmount</th>\n    </tr>\n  </thead>\n  <tbody>\n    <tr>\n      <th>0</th>\n      <td>2</td>\n      <td>2019-01-17</td>\n      <td>2019-01-17</td>\n      <td>1</td>\n      <td>0.98</td>\n      <td>186</td>\n      <td>Penn Station/Madison Sq West</td>\n      <td>Manhattan</td>\n      <td>68</td>\n      <td>East Chelsea</td>\n      <td>Manhattan</td>\n      <td>2</td>\n      <td>Cash</td>\n      <td>5.5</td>\n      <td>0.0</td>\n      <td>0.5</td>\n      <td>0.0</td>\n      <td>0.0</td>\n      <td>0.3</td>\n      <td>6.3</td>\n    </tr>\n    <tr>\n      <th>1</th>\n      <td>2</td>\n      <td>2019-01-09</td>\n      <td>2019-01-09</td>\n      <td>1</td>\n      <td>1.14</td>\n      <td>75</td>\n      <td>East Harlem South</td>\n      <td>Manhattan</td>\n      <td>74</td>\n      <td>East Harlem North</td>\n      <td>Manhattan</td>\n      <td>2</td>\n      <td>Cash</td>\n      <td>5.5</td>\n      <td>0.0</td>\n      <td>0.5</td>\n      <td>0.0</td>\n      <td>0.0</td>\n      <td>0.3</td>\n      <td>6.3</td>\n    </tr>\n    <tr>\n      <th>2</th>\n      <td>2</td>\n      <td>2019-01-14</td>\n      <td>2019-01-14</td>\n      <td>1</td>\n      <td>0.73</td>\n      <td>148</td>\n      <td>Lower East Side</td>\n      <td>Manhattan</td>\n      <td>144</td>\n      <td>Little Italy/NoLiTa</td>\n      <td>Manhattan</td>\n      <td>2</td>\n      <td>Cash</td>\n      <td>5.0</td>\n      <td>0.0</td>\n      <td>0.5</td>\n      <td>0.0</td>\n      <td>0.0</td>\n      <td>0.3</td>\n      <td>5.8</td>\n    </tr>\n    <tr>\n      <th>3</th>\n      <td>2</td>\n      <td>2019-01-12</td>\n      <td>2019-01-12</td>\n      <td>1</td>\n      <td>0.49</td>\n      <td>163</td>\n      <td>Midtown North</td>\n      <td>Manhattan</td>\n      <td>162</td>\n      <td>Midtown East</td>\n      <td>Manhattan</td>\n      <td>2</td>\n      <td>Cash</td>\n      <td>5.0</td>\n      <td>0.0</td>\n      <td>0.5</td>\n      <td>0.0</td>\n      <td>0.0</td>\n      <td>0.3</td>\n      <td>5.8</td>\n    </tr>\n    <tr>\n      <th>4</th>\n      <td>2</td>\n      <td>2019-01-12</td>\n      <td>2019-01-12</td>\n      <td>1</td>\n      <td>0.99</td>\n      <td>238</td>\n      <td>Upper West Side North</td>\n      <td>Manhattan</td>\n      <td>239</td>\n      <td>Upper West Side South</td>\n      <td>Manhattan</td>\n      <td>2</td>\n      <td>Cash</td>\n      <td>6.0</td>\n      <td>0.0</td>\n      <td>0.5</td>\n      <td>0.0</td>\n      <td>0.0</td>\n      <td>0.3</td>\n      <td>6.8</td>\n    </tr>\n  </tbody>\n</table>\n</div>"
          },
          "metadata": {}
        }
      ],
      "execution_count": 107,
      "metadata": {
        "collapsed": true,
        "jupyter": {
          "source_hidden": false,
          "outputs_hidden": false
        },
        "nteract": {
          "transient": {
            "deleting": false
          }
        },
        "gather": {
          "logged": 1608052366319
        }
      }
    },
    {
      "cell_type": "markdown",
      "source": [
        "## Prepare and featurize data\r\n",
        "- There are extra dimensions that are not going to be useful in the model. We just take the dimensions that we need and put them into the featurised dataframe. \r\n",
        "- There are also a bunch of outliers in the data so we need to filter them out."
      ],
      "metadata": {
        "nteract": {
          "transient": {
            "deleting": false
          }
        }
      }
    },
    {
      "cell_type": "code",
      "source": [
        "\r\n",
        "def get_pickup_time(df):\r\n",
        "    pickupHour = df['pickupHour'];\r\n",
        "    if ((pickupHour >= 7) & (pickupHour <= 10)):\r\n",
        "        return 'AMRush'\r\n",
        "    elif ((pickupHour >= 11) & (pickupHour <= 15)):\r\n",
        "        return 'Afternoon'\r\n",
        "    elif ((pickupHour >= 16) & (pickupHour <= 19)):\r\n",
        "        return 'PMRush'\r\n",
        "    else:\r\n",
        "        return 'Night'\r\n",
        "\r\n",
        "featurized_df = pandas.DataFrame()\r\n",
        "featurized_df['tipped'] = (sampled_df['TipAmount'] > 0).astype('int')\r\n",
        "featurized_df['fareAmount'] = sampled_df['FareAmount'].astype('float32')\r\n",
        "featurized_df['paymentType'] = sampled_df['PaymentTypeID'].astype('int')\r\n",
        "featurized_df['passengerCount'] = sampled_df['PassengerCount'].astype('int')\r\n",
        "featurized_df['tripDistance'] = sampled_df['TripDistance'].astype('float32')\r\n",
        "featurized_df['pickupHour'] = sampled_df['PickUpDateTime'].dt.hour.astype('int')\r\n",
        "featurized_df['TotalRideAmount'] = sampled_df['TotalRideAmount'].astype('float32')\r\n",
        "\r\n",
        "featurized_df['pickupTimeBin'] = featurized_df.apply(get_pickup_time, axis=1)\r\n",
        "featurized_df = featurized_df.drop(columns='pickupHour')\r\n",
        "\r\n",
        "display(featurized_df.head(5))\r\n",
        "\r\n"
      ],
      "outputs": [
        {
          "output_type": "display_data",
          "data": {
            "text/plain": "   tipped  fareAmount  paymentType  passengerCount  tripDistance  \\\n0       0         5.5            2               1          0.98   \n1       0         5.5            2               1          1.14   \n2       0         5.0            2               1          0.73   \n3       0         5.0            2               1          0.49   \n4       0         6.0            2               1          0.99   \n\n   TotalRideAmount pickupTimeBin  \n0              6.3         Night  \n1              6.3         Night  \n2              5.8         Night  \n3              5.8         Night  \n4              6.8         Night  ",
            "text/html": "<div>\n<style scoped>\n    .dataframe tbody tr th:only-of-type {\n        vertical-align: middle;\n    }\n\n    .dataframe tbody tr th {\n        vertical-align: top;\n    }\n\n    .dataframe thead th {\n        text-align: right;\n    }\n</style>\n<table border=\"1\" class=\"dataframe\">\n  <thead>\n    <tr style=\"text-align: right;\">\n      <th></th>\n      <th>tipped</th>\n      <th>fareAmount</th>\n      <th>paymentType</th>\n      <th>passengerCount</th>\n      <th>tripDistance</th>\n      <th>TotalRideAmount</th>\n      <th>pickupTimeBin</th>\n    </tr>\n  </thead>\n  <tbody>\n    <tr>\n      <th>0</th>\n      <td>0</td>\n      <td>5.5</td>\n      <td>2</td>\n      <td>1</td>\n      <td>0.98</td>\n      <td>6.3</td>\n      <td>Night</td>\n    </tr>\n    <tr>\n      <th>1</th>\n      <td>0</td>\n      <td>5.5</td>\n      <td>2</td>\n      <td>1</td>\n      <td>1.14</td>\n      <td>6.3</td>\n      <td>Night</td>\n    </tr>\n    <tr>\n      <th>2</th>\n      <td>0</td>\n      <td>5.0</td>\n      <td>2</td>\n      <td>1</td>\n      <td>0.73</td>\n      <td>5.8</td>\n      <td>Night</td>\n    </tr>\n    <tr>\n      <th>3</th>\n      <td>0</td>\n      <td>5.0</td>\n      <td>2</td>\n      <td>1</td>\n      <td>0.49</td>\n      <td>5.8</td>\n      <td>Night</td>\n    </tr>\n    <tr>\n      <th>4</th>\n      <td>0</td>\n      <td>6.0</td>\n      <td>2</td>\n      <td>1</td>\n      <td>0.99</td>\n      <td>6.8</td>\n      <td>Night</td>\n    </tr>\n  </tbody>\n</table>\n</div>"
          },
          "metadata": {}
        }
      ],
      "execution_count": 108,
      "metadata": {
        "collapsed": true,
        "jupyter": {
          "source_hidden": false,
          "outputs_hidden": false
        },
        "nteract": {
          "transient": {
            "deleting": false
          }
        },
        "gather": {
          "logged": 1608052503498
        }
      }
    },
    {
      "cell_type": "code",
      "source": [
        "filtered_df = featurized_df[(featurized_df.tipped >= 0) & (featurized_df.tipped <= 1)\\\r\n",
        "    & (featurized_df.fareAmount >= 1) & (featurized_df.fareAmount <= 250)\\\r\n",
        "    & (featurized_df.paymentType >= 1) & (featurized_df.paymentType <= 2)\\\r\n",
        "    & (featurized_df.passengerCount > 0) & (featurized_df.passengerCount < 8)\\\r\n",
        "    & (featurized_df.tripDistance >= 0) & (featurized_df.tripDistance <= 100)]\r\n",
        "\r\n",
        "#\r\n",
        "filtered_df.info()\r\n",
        "\r\n",
        "filtered_df.describe()"
      ],
      "outputs": [
        {
          "output_type": "stream",
          "name": "stdout",
          "text": [
            "<class 'pandas.core.frame.DataFrame'>\n",
            "Int64Index: 7505194 entries, 0 to 7550459\n",
            "Data columns (total 7 columns):\n",
            "tipped             int64\n",
            "fareAmount         float32\n",
            "paymentType        int64\n",
            "passengerCount     int64\n",
            "tripDistance       float32\n",
            "TotalRideAmount    float32\n",
            "pickupTimeBin      object\n",
            "dtypes: float32(3), int64(3), object(1)\n",
            "memory usage: 372.2+ MB\n"
          ]
        },
        {
          "output_type": "execute_result",
          "execution_count": 109,
          "data": {
            "text/plain": "             tipped    fareAmount   paymentType  passengerCount  tripDistance  \\\ncount  7.505194e+06  7.505194e+06  7.505194e+06    7.505194e+06  7.505194e+06   \nmean   6.897795e-01  1.222318e+01  1.280273e+00    1.593187e+00  2.812785e+00   \nstd    4.625838e-01  1.092565e+01  4.491324e-01    1.220000e+00  3.682295e+00   \nmin    0.000000e+00  1.000000e+00  1.000000e+00    1.000000e+00  0.000000e+00   \n25%    0.000000e+00  6.000000e+00  1.000000e+00    1.000000e+00  9.100000e-01   \n50%    1.000000e+00  9.000000e+00  1.000000e+00    1.000000e+00  1.530000e+00   \n75%    1.000000e+00  1.350000e+01  2.000000e+00    2.000000e+00  2.800000e+00   \nmax    1.000000e+00  2.500000e+02  2.000000e+00    7.000000e+00  9.613000e+01   \n\n       TotalRideAmount  \ncount     7.505194e+06  \nmean      1.549892e+01  \nstd       1.357638e+01  \nmin       1.000000e+00  \n25%       8.300000e+00  \n50%       1.130000e+01  \n75%       1.656000e+01  \nmax       3.345300e+03  ",
            "text/html": "<div>\n<style scoped>\n    .dataframe tbody tr th:only-of-type {\n        vertical-align: middle;\n    }\n\n    .dataframe tbody tr th {\n        vertical-align: top;\n    }\n\n    .dataframe thead th {\n        text-align: right;\n    }\n</style>\n<table border=\"1\" class=\"dataframe\">\n  <thead>\n    <tr style=\"text-align: right;\">\n      <th></th>\n      <th>tipped</th>\n      <th>fareAmount</th>\n      <th>paymentType</th>\n      <th>passengerCount</th>\n      <th>tripDistance</th>\n      <th>TotalRideAmount</th>\n    </tr>\n  </thead>\n  <tbody>\n    <tr>\n      <th>count</th>\n      <td>7.505194e+06</td>\n      <td>7.505194e+06</td>\n      <td>7.505194e+06</td>\n      <td>7.505194e+06</td>\n      <td>7.505194e+06</td>\n      <td>7.505194e+06</td>\n    </tr>\n    <tr>\n      <th>mean</th>\n      <td>6.897795e-01</td>\n      <td>1.222318e+01</td>\n      <td>1.280273e+00</td>\n      <td>1.593187e+00</td>\n      <td>2.812785e+00</td>\n      <td>1.549892e+01</td>\n    </tr>\n    <tr>\n      <th>std</th>\n      <td>4.625838e-01</td>\n      <td>1.092565e+01</td>\n      <td>4.491324e-01</td>\n      <td>1.220000e+00</td>\n      <td>3.682295e+00</td>\n      <td>1.357638e+01</td>\n    </tr>\n    <tr>\n      <th>min</th>\n      <td>0.000000e+00</td>\n      <td>1.000000e+00</td>\n      <td>1.000000e+00</td>\n      <td>1.000000e+00</td>\n      <td>0.000000e+00</td>\n      <td>1.000000e+00</td>\n    </tr>\n    <tr>\n      <th>25%</th>\n      <td>0.000000e+00</td>\n      <td>6.000000e+00</td>\n      <td>1.000000e+00</td>\n      <td>1.000000e+00</td>\n      <td>9.100000e-01</td>\n      <td>8.300000e+00</td>\n    </tr>\n    <tr>\n      <th>50%</th>\n      <td>1.000000e+00</td>\n      <td>9.000000e+00</td>\n      <td>1.000000e+00</td>\n      <td>1.000000e+00</td>\n      <td>1.530000e+00</td>\n      <td>1.130000e+01</td>\n    </tr>\n    <tr>\n      <th>75%</th>\n      <td>1.000000e+00</td>\n      <td>1.350000e+01</td>\n      <td>2.000000e+00</td>\n      <td>2.000000e+00</td>\n      <td>2.800000e+00</td>\n      <td>1.656000e+01</td>\n    </tr>\n    <tr>\n      <th>max</th>\n      <td>1.000000e+00</td>\n      <td>2.500000e+02</td>\n      <td>2.000000e+00</td>\n      <td>7.000000e+00</td>\n      <td>9.613000e+01</td>\n      <td>3.345300e+03</td>\n    </tr>\n  </tbody>\n</table>\n</div>"
          },
          "metadata": {}
        }
      ],
      "execution_count": 109,
      "metadata": {
        "collapsed": true,
        "jupyter": {
          "source_hidden": false,
          "outputs_hidden": false
        },
        "nteract": {
          "transient": {
            "deleting": false
          }
        },
        "gather": {
          "logged": 1608052505233
        }
      }
    },
    {
      "cell_type": "markdown",
      "source": [
        "## Split training and testing data sets\r\n",
        "- 70% of the data is used to train the model.\r\n",
        "- 30% of the data is used to test the model."
      ],
      "metadata": {
        "nteract": {
          "transient": {
            "deleting": false
          }
        }
      }
    },
    {
      "cell_type": "code",
      "source": [
        "from sklearn.model_selection import train_test_split\r\n",
        "\r\n",
        "train_df, test_df = train_test_split(filtered_df, test_size=0.3, random_state=123)\r\n",
        "\r\n",
        "x_train = pandas.DataFrame(train_df.drop(['tipped'], axis = 1))\r\n",
        "y_train = pandas.DataFrame(train_df.iloc[:,train_df.columns.tolist().index('tipped')])\r\n",
        "\r\n",
        "x_test = pandas.DataFrame(test_df.drop(['tipped'], axis = 1))\r\n",
        "y_test = pandas.DataFrame(test_df.iloc[:,test_df.columns.tolist().index('tipped')])"
      ],
      "outputs": [],
      "execution_count": 110,
      "metadata": {
        "collapsed": true,
        "jupyter": {
          "source_hidden": false,
          "outputs_hidden": false
        },
        "nteract": {
          "transient": {
            "deleting": false
          }
        },
        "gather": {
          "logged": 1608052507228
        }
      }
    },
    {
      "cell_type": "markdown",
      "source": [
        "## Export test data as CSV\r\n",
        "Export the test data as a CSV file. Later, it can be loaded the CSV file into Synapse SQL pool to test the model."
      ],
      "metadata": {
        "nteract": {
          "transient": {
            "deleting": false
          }
        }
      }
    },
    {
      "cell_type": "code",
      "source": [
        "test_df.to_csv('test_data.csv', index=False)"
      ],
      "outputs": [],
      "execution_count": 111,
      "metadata": {
        "collapsed": true,
        "jupyter": {
          "source_hidden": false,
          "outputs_hidden": false
        },
        "nteract": {
          "transient": {
            "deleting": false
          }
        },
        "gather": {
          "logged": 1608052523238
        }
      }
    },
    {
      "cell_type": "markdown",
      "source": [
        "## Train model\r\n",
        "Train a bi-classifier to predict whether a taxi trip will be a tipped or not.\r\n",
        "\r\n",
        "Try to include the 'paymentType' and observe the change in the results.\r\n"
      ],
      "metadata": {
        "nteract": {
          "transient": {
            "deleting": false
          }
        }
      }
    },
    {
      "cell_type": "code",
      "source": [
        "from sklearn.compose import ColumnTransformer\r\n",
        "from sklearn.linear_model import LogisticRegression\r\n",
        "from sklearn.pipeline import Pipeline\r\n",
        "from sklearn.impute import SimpleImputer\r\n",
        "from sklearn.preprocessing import StandardScaler, OneHotEncoder\r\n",
        "\r\n",
        "float_features = ['fareAmount', 'tripDistance', 'TotalRideAmount']\r\n",
        "float_transformer = Pipeline(steps=[\r\n",
        "    ('imputer', SimpleImputer(strategy='median')),\r\n",
        "    ('scaler', StandardScaler())])\r\n",
        "\r\n",
        "integer_features = ['paymentType', 'passengerCount']\r\n",
        "integer_transformer = Pipeline(steps=[\r\n",
        "    ('imputer', SimpleImputer(strategy='median')),\r\n",
        "    ('scaler', StandardScaler())])\r\n",
        "\r\n",
        "categorical_features = ['pickupTimeBin']\r\n",
        "categorical_transformer = Pipeline(steps=[\r\n",
        "    ('onehot', OneHotEncoder(handle_unknown='ignore'))])\r\n",
        "\r\n",
        "preprocessor = ColumnTransformer(\r\n",
        "    transformers=[\r\n",
        "        ('float', float_transformer, float_features),\r\n",
        "        ('integer', integer_transformer, integer_features),\r\n",
        "        ('cat', categorical_transformer, categorical_features)\r\n",
        "    ])\r\n",
        "\r\n",
        "clf = Pipeline(steps=[('preprocessor', preprocessor),\r\n",
        "                      ('classifier', LogisticRegression(solver='lbfgs'))])\r\n",
        "\r\n",
        "# Train the model\r\n",
        "clf.fit(x_train, y_train)"
      ],
      "outputs": [
        {
          "output_type": "stream",
          "name": "stderr",
          "text": [
            "/anaconda/envs/azureml_py36/lib/python3.6/site-packages/sklearn/utils/validation.py:761: DataConversionWarning: A column-vector y was passed when a 1d array was expected. Please change the shape of y to (n_samples, ), for example using ravel().\n",
            "  y = column_or_1d(y, warn=True)\n"
          ]
        },
        {
          "output_type": "execute_result",
          "execution_count": 112,
          "data": {
            "text/plain": "Pipeline(memory=None,\n     steps=[('preprocessor', ColumnTransformer(n_jobs=None, remainder='drop', sparse_threshold=0.3,\n         transformer_weights=None,\n         transformers=[('float', Pipeline(memory=None,\n     steps=[('imputer', SimpleImputer(copy=True, fill_value=None, missing_values=nan,\n       strategy='median', ver...enalty='l2', random_state=None, solver='lbfgs',\n          tol=0.0001, verbose=0, warm_start=False))])"
          },
          "metadata": {}
        }
      ],
      "execution_count": 112,
      "metadata": {
        "collapsed": true,
        "jupyter": {
          "source_hidden": false,
          "outputs_hidden": false
        },
        "nteract": {
          "transient": {
            "deleting": false
          }
        },
        "gather": {
          "logged": 1608052555755
        }
      }
    },
    {
      "cell_type": "code",
      "source": [
        "# Evalute the model\r\n",
        "score = clf.score(x_test, y_test)\r\n",
        "print(score)"
      ],
      "outputs": [
        {
          "output_type": "stream",
          "name": "stdout",
          "text": [
            "0.9803416210723326\n"
          ]
        }
      ],
      "execution_count": 113,
      "metadata": {
        "collapsed": true,
        "jupyter": {
          "source_hidden": false,
          "outputs_hidden": false
        },
        "nteract": {
          "transient": {
            "deleting": false
          }
        },
        "gather": {
          "logged": 1608052556742
        }
      }
    },
    {
      "cell_type": "markdown",
      "source": [
        "## Convert the model to ONNX format\r\n",
        "Currently, T-SQL scoring only supports ONNX model format (https://onnx.ai/)."
      ],
      "metadata": {
        "nteract": {
          "transient": {
            "deleting": false
          }
        }
      }
    },
    {
      "cell_type": "code",
      "source": [
        "from skl2onnx import convert_sklearn\r\n",
        "from skl2onnx.common.data_types import FloatTensorType, Int64TensorType, DoubleTensorType, StringTensorType\r\n",
        "\r\n",
        "def convert_dataframe_schema(df, drop=None):\r\n",
        "    inputs = []\r\n",
        "    for k, v in zip(df.columns, df.dtypes):\r\n",
        "        if drop is not None and k in drop:\r\n",
        "            continue\r\n",
        "        if v == 'int64':\r\n",
        "            t = Int64TensorType([1, 1])\r\n",
        "        elif v == 'float32':\r\n",
        "            t = FloatTensorType([1, 1])\r\n",
        "        elif v == 'float64':\r\n",
        "            t = DoubleTensorType([1, 1])\r\n",
        "        else:\r\n",
        "            t = StringTensorType([1, 1])\r\n",
        "        inputs.append((k, t))\r\n",
        "    return inputs\r\n",
        "\r\n",
        "model_inputs = convert_dataframe_schema(x_train)\r\n",
        "onnx_model = convert_sklearn(clf, \"nyc_taxi_tip_predict\", model_inputs)"
      ],
      "outputs": [
        {
          "output_type": "stream",
          "name": "stderr",
          "text": [
            "The maximum opset needed by this model is only 11.\n",
            "The maximum opset needed by this model is only 1.\n"
          ]
        }
      ],
      "execution_count": 115,
      "metadata": {
        "collapsed": true,
        "jupyter": {
          "source_hidden": false,
          "outputs_hidden": false
        },
        "nteract": {
          "transient": {
            "deleting": false
          }
        },
        "gather": {
          "logged": 1608052558058
        }
      }
    },
    {
      "cell_type": "markdown",
      "source": [
        "## Register the model with MLFlow"
      ],
      "metadata": {
        "nteract": {
          "transient": {
            "deleting": false
          }
        }
      }
    },
    {
      "cell_type": "code",
      "source": [
        "from azureml.core import Workspace\r\n",
        "\r\n",
        "ws = Workspace.from_config()\r\n",
        "print(ws.name, ws.resource_group, ws.location, sep='\\n')"
      ],
      "outputs": [
        {
          "output_type": "stream",
          "name": "stdout",
          "text": [
            "amlworkspacekpq2soskyd5b4\n",
            "MDW-Lab\n",
            "eastus\n"
          ]
        }
      ],
      "execution_count": 116,
      "metadata": {
        "collapsed": true,
        "jupyter": {
          "source_hidden": false,
          "outputs_hidden": false
        },
        "nteract": {
          "transient": {
            "deleting": false
          }
        },
        "gather": {
          "logged": 1608052558879
        }
      }
    },
    {
      "cell_type": "code",
      "source": [
        "import mlflow\r\n",
        "import mlflow.onnx\r\n",
        "\r\n",
        "from mlflow.models.signature import infer_signature\r\n",
        "\r\n",
        "experiment_name = 'nyc_taxi_tip_predict_exp'\r\n",
        "artifact_path = 'nyc_taxi_tip_predict_artifact'\r\n",
        "\r\n",
        "mlflow.set_tracking_uri(ws.get_mlflow_tracking_uri())\r\n",
        "mlflow.set_experiment(experiment_name)\r\n",
        "\r\n",
        "with mlflow.start_run() as run:\r\n",
        "    # Infer signature\r\n",
        "    input_sample = x_train.head(1)\r\n",
        "    output_sample = pandas.DataFrame(columns=['output_label'], data=[1])\r\n",
        "    signature = infer_signature(input_sample, output_sample)\r\n",
        "\r\n",
        "    # Save the model to the outputs directory for capture\r\n",
        "    mlflow.onnx.log_model(onnx_model, artifact_path, signature=signature, input_example=input_sample)\r\n",
        "\r\n",
        "    # Register the model to AML model registry\r\n",
        "    mlflow.register_model('runs:/' + run.info.run_id + '/' + artifact_path, 'nyc_taxi_tip_predict')\r\n"
      ],
      "outputs": [
        {
          "output_type": "stream",
          "name": "stderr",
          "text": [
            "Registered model 'nyc_taxi_tip_predict' already exists. Creating a new version of this model...\n",
            "2020/12/15 17:16:06 INFO mlflow.tracking._model_registry.client: Waiting up to 300 seconds for model version to finish creation.                     Model name: nyc_taxi_tip_predict, version 4\n",
            "Created version '4' of model 'nyc_taxi_tip_predict'.\n"
          ]
        }
      ],
      "execution_count": 117,
      "metadata": {
        "collapsed": true,
        "jupyter": {
          "source_hidden": false,
          "outputs_hidden": false
        },
        "nteract": {
          "transient": {
            "deleting": false
          }
        },
        "gather": {
          "logged": 1608052566385
        }
      }
    },
    {
      "cell_type": "code",
      "source": [],
      "outputs": [],
      "execution_count": null,
      "metadata": {
        "collapsed": true,
        "jupyter": {
          "source_hidden": false,
          "outputs_hidden": false
        },
        "nteract": {
          "transient": {
            "deleting": false
          }
        }
      }
    }
  ],
  "metadata": {
    "kernelspec": {
      "name": "python3-azureml",
      "language": "python",
      "display_name": "Python 3.6 - AzureML"
    },
    "language_info": {
      "name": "python",
      "version": "3.6.9",
      "mimetype": "text/x-python",
      "codemirror_mode": {
        "name": "ipython",
        "version": 3
      },
      "pygments_lexer": "ipython3",
      "nbconvert_exporter": "python",
      "file_extension": ".py"
    },
    "kernel_info": {
      "name": "python3-azureml"
    },
    "nteract": {
      "version": "nteract-front-end@1.0.0"
    }
  },
  "nbformat": 4,
  "nbformat_minor": 2
}