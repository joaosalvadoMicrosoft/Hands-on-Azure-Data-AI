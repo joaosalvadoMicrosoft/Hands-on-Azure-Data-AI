{
 "cells": [
  {
   "cell_type": "markdown",
   "metadata": {},
   "source": [
    "# Test Model Deployment"
   ]
  },
  {
   "cell_type": "markdown",
   "metadata": {},
   "source": [
    "## Load Data for Testing"
   ]
  },
  {
   "cell_type": "code",
   "execution_count": null,
   "metadata": {},
   "outputs": [],
   "source": [
    "#Provide the Subscription ID of your existing Azure subscription\n",
    "subscription_id = \"\" # <- needs to be the subscription with the Quick-Starts resource group\n",
    "\n",
    "#Provide values for the existing Resource Group \n",
    "resource_group = \"MCW-MLOps-XXXXX\" # <- replace XXXXX with your unique identifier\n",
    "\n",
    "#Provide the Workspace Name and Azure Region of the Azure Machine Learning Workspace\n",
    "workspace_name = \"quick-starts-ws-XXXXX\" # <- replace XXXXX with your unique identifier\n",
    "workspace_region = \"eastus\" # <- region of your Quick-Starts resource group"
   ]
  },
  {
   "cell_type": "code",
   "execution_count": null,
   "metadata": {},
   "outputs": [],
   "source": [
    "from azureml.core import Workspace\n",
    "ws = Workspace.create(\n",
    "    name = workspace_name,\n",
    "    subscription_id = subscription_id,\n",
    "    resource_group = resource_group, \n",
    "    location = workspace_region,\n",
    "    exist_ok = True)\n",
    "\n",
    "ws.write_config()\n",
    "print('Workspace configuration succeeded')"
   ]
  },
  {
   "cell_type": "code",
   "execution_count": null,
   "metadata": {},
   "outputs": [],
   "source": [
    "import numpy as np\n",
    "import pandas as pd\n",
    "from azureml.core.dataset import Dataset\n",
    "from azureml.core import Workspace\n",
    "\n",
    "# Load the car components labeled data from registered dataset\n",
    "cardata_ds_name = 'connected_car_components'\n",
    "cardata_ds = Dataset.get_by_name(workspace=ws, name=cardata_ds_name)\n",
    "\n",
    "car_components_df = cardata_ds.to_pandas_dataframe()\n",
    "data = car_components_df[\"text\"].tolist()\n",
    "labels = car_components_df[\"label\"].tolist()\n",
    "data = np.asarray(data)\n",
    "labels = np.asarray(labels)\n",
    "\n",
    "indices = np.arange(data.shape[0])                     \n",
    "np.random.shuffle(indices)\n",
    "data = data[indices]\n",
    "labels = labels[indices]"
   ]
  },
  {
   "cell_type": "markdown",
   "metadata": {},
   "source": [
    "### Prepare Test Data"
   ]
  },
  {
   "cell_type": "code",
   "execution_count": null,
   "metadata": {},
   "outputs": [],
   "source": [
    "test_size = 10\n",
    "\n",
    "x_test = data[0:test_size]\n",
    "y_test = labels[0:test_size]\n",
    "\n",
    "print('Shape of test data tensor:', x_test.shape)\n",
    "print('Shape of test label tensor:', y_test.shape)"
   ]
  },
  {
   "cell_type": "markdown",
   "metadata": {},
   "source": [
    "## Test Deployment\n",
    "\n",
    "Provide the **Scoring URI** for the deployed ACI webservice"
   ]
  },
  {
   "cell_type": "code",
   "execution_count": null,
   "metadata": {},
   "outputs": [],
   "source": [
    "# provide the scoring URI\n",
    "web_service_url = ''"
   ]
  },
  {
   "cell_type": "markdown",
   "metadata": {},
   "source": [
    "### Make HTTP calls to test the deployed Webservice"
   ]
  },
  {
   "cell_type": "code",
   "execution_count": null,
   "metadata": {},
   "outputs": [],
   "source": [
    "import requests\n",
    "import json\n",
    "\n",
    "headers = {'Content-Type':'application/json'}\n",
    "response = requests.post(web_service_url, json.dumps(x_test.tolist()), headers=headers)\n",
    "print('Predictions')\n",
    "print(response.text)\n",
    "print('Labels')\n",
    "print(y_test)"
   ]
  },
  {
   "cell_type": "markdown",
   "metadata": {},
   "source": [
    "# Use built-in Jupyter renderer for the Datasheet based on custom tags"
   ]
  },
  {
   "cell_type": "code",
   "execution_count": null,
   "metadata": {},
   "outputs": [],
   "source": [
    "from IPython.core.display import display, Markdown\n",
    "from markdown import markdown\n",
    "\n",
    "def get_tag(tags, tagname):\n",
    "    text = ''\n",
    "    try:\n",
    "        text = tags[tagname]\n",
    "    except:\n",
    "        print('Missing tag ' + tagname)\n",
    "    finally:\n",
    "        return text\n",
    "\n",
    "    return text\n",
    "\n",
    "def get_datasheet(tags):\n",
    "    \n",
    "    title = get_tag(tags, 'title')\n",
    "    description = get_tag(tags, 'datasheet_description')\n",
    "    details = get_tag(tags, 'details')\n",
    "    date = get_tag(tags, 'date')\n",
    "    modeltype = get_tag(tags, 'type')\n",
    "    version = get_tag(tags, 'version')\n",
    "    buildnumber = get_tag(tags, 'build_number')\n",
    "    runid = get_tag(tags, 'run_id')\n",
    "    helpresources = get_tag(tags, 'help')\n",
    "    helpurl = get_tag(tags, 'help_url')\n",
    "    usecase_primary = get_tag(tags, 'usecase_primary')\n",
    "    usecase_secondary = get_tag(tags, 'usecase_secondary')\n",
    "    usecase_outofscope = get_tag(tags, 'usecase_outofscope')\n",
    "    dataset_description = get_tag(tags, 'dataset_description')\n",
    "    motivation = get_tag(tags, 'motivation')\n",
    "    caveats = get_tag(tags, 'caveats')\n",
    "\n",
    "    datasheet = ''\n",
    "    datasheet+=markdown(f'# {title} \\n {description} \\n')\n",
    "    datasheet+=markdown(f'## Model Details \\n {details} \\n')\n",
    "    datasheet+=markdown(f'### Model date \\n {date} \\n')\n",
    "    datasheet+=markdown(f'### Model type \\n {modeltype} \\n')\n",
    "    datasheet+=markdown(f'### Model version \\n {version} \\n')\n",
    "    datasheet+=markdown(f'### Release build number \\n {buildnumber} \\n')\n",
    "    datasheet+=markdown(f'### Training run id \\n {runid} \\n')\n",
    "    datasheet+=markdown(f'### Where to send questions or comments about the model \\n Please send questions or concerns using [{helpresources}]({helpurl}) \\n')\n",
    "    datasheet+=markdown('## Intended Uses:\\n')\n",
    "    datasheet+=markdown(f'### Primary use case \\n {usecase_primary} \\n')\n",
    "    datasheet+=markdown(f'### Secondary use case \\n {usecase_secondary} \\n')\n",
    "    datasheet+=markdown(f'### Out of scope \\n {usecase_outofscope} \\n')\n",
    "    datasheet+=markdown('## Evaluation Data:\\n')\n",
    "    datasheet+=markdown(f'### Datasets \\n {dataset_description} \\n')\n",
    "    datasheet+=markdown(f'### Motivation \\n {motivation} \\n')\n",
    "    datasheet+=markdown(f'### Caveats \\n {caveats} \\n')\n",
    "\n",
    "    return datasheet"
   ]
  },
  {
   "cell_type": "markdown",
   "metadata": {},
   "source": [
    "## Get the deployed Model"
   ]
  },
  {
   "cell_type": "code",
   "execution_count": null,
   "metadata": {},
   "outputs": [],
   "source": [
    "import azureml.core\n",
    "from azureml.core.experiment import Experiment\n",
    "from azureml.core.workspace import Workspace\n",
    "from azureml.core.model import Model\n",
    "from azureml.core.webservice import Webservice\n",
    "\n",
    "model_name = 'compliance-classifier'\n",
    "model_version = None\n",
    "\n",
    "ws = Workspace.from_config()\n",
    "ws_list = Webservice.list(ws, model_name = model_name)\n",
    "\n",
    "webservice = None\n",
    "if(len(ws_list) > 0):\n",
    "    webservice = ws_list[0]\n",
    "\n",
    "if model_version != None:\n",
    "    model = Model(ws, name=model_name, version=model_version)\n",
    "    print('Model version:', model.version)\n",
    "else:\n",
    "    model = Model(ws, name=model_name)\n",
    "    print('Model version:', model.version)"
   ]
  },
  {
   "cell_type": "markdown",
   "metadata": {},
   "source": [
    "## Display the Datasheet for deployed Model"
   ]
  },
  {
   "cell_type": "code",
   "execution_count": null,
   "metadata": {},
   "outputs": [],
   "source": [
    "display(Markdown(get_datasheet(model.tags)))"
   ]
  },
  {
   "cell_type": "code",
   "execution_count": null,
   "metadata": {},
   "outputs": [],
   "source": []
  }
 ],
 "metadata": {
  "kernelspec": {
   "display_name": "Python 3.6 - AzureML",
   "language": "python",
   "name": "python3-azureml"
  },
  "language_info": {
   "codemirror_mode": {
    "name": "ipython",
    "version": 3
   },
   "file_extension": ".py",
   "mimetype": "text/x-python",
   "name": "python",
   "nbconvert_exporter": "python",
   "pygments_lexer": "ipython3",
   "version": "3.6.9"
  }
 },
 "nbformat": 4,
 "nbformat_minor": 1
}
