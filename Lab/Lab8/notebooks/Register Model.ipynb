{
 "cells": [
  {
   "cell_type": "markdown",
   "metadata": {},
   "source": [
    "# Create and connect to an Azure Machine Learning Workspace\n",
    "\n",
    "Run the following cell to create a new Azure Machine Learning **Workspace**.\n",
    "\n",
    "**Important Note**: You will be prompted to login in the text that is output below the cell. Be sure to navigate to the URL displayed and enter the code that is provided. Once you have entered the code, return to this notebook and wait for the output to read `Workspace configuration succeeded`."
   ]
  },
  {
   "cell_type": "code",
   "execution_count": null,
   "metadata": {},
   "outputs": [],
   "source": [
    "from azureml.core import Workspace, Experiment, Run\n",
    "\n",
    "ws = Workspace.from_config()\n",
    "\n",
    "print('Workspace configuration succeeded')"
   ]
  },
  {
   "cell_type": "markdown",
   "metadata": {},
   "source": [
    "# Get the Model Training Run\n",
    "\n",
    "**Load the run_info.json file that has the run id for the model training run**"
   ]
  },
  {
   "cell_type": "code",
   "execution_count": null,
   "metadata": {},
   "outputs": [],
   "source": [
    "import os\n",
    "import json\n",
    "\n",
    "output_path = './outputs'\n",
    "\n",
    "run_info_filepath = os.path.join(output_path, 'run_info.json')\n",
    "\n",
    "try:\n",
    "    with open(run_info_filepath) as f:\n",
    "        run_info = json.load(f)\n",
    "        print('run_info.json loaded')\n",
    "        print(run_info)\n",
    "except:\n",
    "    print(\"Cannot open: \", run_info_filepath)\n",
    "    print(\"Please fix output_path before proceeding!\")"
   ]
  },
  {
   "cell_type": "markdown",
   "metadata": {},
   "source": [
    "**Get the Run object from the run id**"
   ]
  },
  {
   "cell_type": "code",
   "execution_count": null,
   "metadata": {},
   "outputs": [],
   "source": [
    "experiment_name = 'deep-learning'\n",
    "run = Run(Experiment(ws, experiment_name), run_info['id'])"
   ]
  },
  {
   "cell_type": "markdown",
   "metadata": {},
   "source": [
    "# Register Model"
   ]
  },
  {
   "cell_type": "markdown",
   "metadata": {},
   "source": [
    "**Register the Model with Azure Model Registry**"
   ]
  },
  {
   "cell_type": "code",
   "execution_count": null,
   "metadata": {},
   "outputs": [],
   "source": [
    "model_name = 'compliance-classifier'\n",
    "model_description = 'Deep learning model to classify the descriptions of car components as compliant or non-compliant.'\n",
    "\n",
    "model_run = run.register_model(model_name=model_name,  \n",
    "                               model_path=\"outputs/model/model.onnx\",\n",
    "                               description=model_description,\n",
    "                               tags={\"type\": \"classification\", \"run_id\": run.id})\n",
    "\n",
    "print(\"Model Registered: {} \\nModel Description: {} \\nModel Version: {}\".format(model_run.name, \n",
    "                                                                                model_run.description, model_run.version))"
   ]
  },
  {
   "cell_type": "code",
   "execution_count": null,
   "metadata": {},
   "outputs": [],
   "source": []
  }
 ],
 "metadata": {
  "kernelspec": {
   "display_name": "Python 3.6 - AzureML",
   "language": "python",
   "name": "python3-azureml"
  },
  "language_info": {
   "codemirror_mode": {
    "name": "ipython",
    "version": 3
   },
   "file_extension": ".py",
   "mimetype": "text/x-python",
   "name": "python",
   "nbconvert_exporter": "python",
   "pygments_lexer": "ipython3",
   "version": "3.6.9"
  }
 },
 "nbformat": 4,
 "nbformat_minor": 1
}
