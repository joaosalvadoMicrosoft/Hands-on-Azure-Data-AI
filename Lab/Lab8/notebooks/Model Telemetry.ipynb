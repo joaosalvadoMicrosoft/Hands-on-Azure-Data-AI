{
 "cells": [
  {
   "cell_type": "code",
   "execution_count": null,
   "metadata": {},
   "outputs": [],
   "source": [
    "import azureml.core\n",
    "from azureml.core import Workspace\n",
    "from azureml.core.webservice import Webservice\n",
    "from azureml.core.authentication import AzureCliAuthentication\n",
    "import requests\n",
    "import json"
   ]
  },
  {
   "cell_type": "code",
   "execution_count": null,
   "metadata": {},
   "outputs": [],
   "source": [
    "#Provide the Subscription ID of your existing Azure subscription\n",
    "subscription_id = \"\" # <- needs to be the subscription with the Quick-Starts resource group\n",
    "\n",
    "#Provide values for the existing Resource Group \n",
    "resource_group = \"MCW-MLOps-XXXXX\" # <- replace XXXXX with your unique identifier\n",
    "\n",
    "#Provide the Workspace Name and Azure Region of the Azure Machine Learning Workspace\n",
    "workspace_name = \"quick-starts-ws-XXXXX\" # <- replace XXXXX with your unique identifier\n",
    "workspace_region = \"eastus\" # <- region of your Quick-Starts resource group\n",
    "\n",
    "#Provide the name of the webservice\n",
    "webservice_name = \"compliance-classifier-service\" # <- the name used by Azure DevOps pipeline\n",
    "\n",
    "webservice_url = \"...\" # <- the url created as a result of publication\n",
    "webservice_key = \"...\" # <- the api key generated as a result of publication"
   ]
  },
  {
   "cell_type": "code",
   "execution_count": null,
   "metadata": {},
   "outputs": [],
   "source": [
    "# By using the exist_ok param, if the worskpace already exists you get a reference to the existing workspace\n",
    "# allowing you to re-run this cell multiple times as desired (which is fairly common in notebooks).\n",
    "ws = Workspace.create(\n",
    "    name = workspace_name,\n",
    "    subscription_id = subscription_id,\n",
    "    resource_group = resource_group, \n",
    "    location = workspace_region,\n",
    "    exist_ok = True)\n",
    "\n",
    "ws.write_config()\n",
    "print('Workspace configuration succeeded')"
   ]
  },
  {
   "cell_type": "markdown",
   "metadata": {},
   "source": [
    "### Call the deployed model\n",
    "\n",
    "Since telemetry is not yet activated, no information will be recorded as a result of this call.\n",
    "\n",
    "**Note**: These calls are just used to demonstrate the telemetry functionality. We don't care here about the inputs and outputs of the deployed model."
   ]
  },
  {
   "cell_type": "code",
   "execution_count": null,
   "metadata": {},
   "outputs": [],
   "source": [
    "# This is dummy data, just to test the call\n",
    "test_data =[['manufactured in 2016 made of plastic in good condition']]\n"
   ]
  },
  {
   "cell_type": "code",
   "execution_count": null,
   "metadata": {},
   "outputs": [],
   "source": [
    "headers = {'Content-Type':'application/json', 'Authorization':('Bearer '+ webservice_key)}\n",
    "response = requests.post(webservice_url, json.dumps(test_data), headers=headers)\n",
    "print('Predictions')\n",
    "print(response.text)"
   ]
  },
  {
   "cell_type": "markdown",
   "metadata": {},
   "source": [
    "### Activate telemetry\n",
    "\n",
    "We are going to activate telemetry on the deployed model. Then we will make another call which will end up being logged by both Application Insights and data collection."
   ]
  },
  {
   "cell_type": "code",
   "execution_count": null,
   "metadata": {},
   "outputs": [],
   "source": [
    "web_service = Webservice(ws, webservice_name)"
   ]
  },
  {
   "cell_type": "code",
   "execution_count": null,
   "metadata": {},
   "outputs": [],
   "source": [
    "web_service.update(enable_app_insights=True, collect_model_data=True)"
   ]
  },
  {
   "cell_type": "markdown",
   "metadata": {},
   "source": [
    "**Make a few calls that will be collected.**\n",
    "\n",
    "Note that if there are errors running the cell below (for example, Too many requests for service compliance-classifier-service (overloaded) or No ready replicas for service compliance-classifier-service). You should wait for 5 minutes and rerun the cell to make the calls.\n",
    "\n",
    "**When the cell runs without errors, run the cell multiple (e.g. 5) times**"
   ]
  },
  {
   "cell_type": "code",
   "execution_count": null,
   "metadata": {},
   "outputs": [],
   "source": [
    "headers = {'Content-Type':'application/json', 'Authorization':('Bearer '+ webservice_key)}\n",
    "response = requests.post(webservice_url, json.dumps(test_data), headers=headers)\n",
    "print('Predictions')\n",
    "print(response.text)\n",
    "\n",
    "response = requests.post(webservice_url, json.dumps(test_data), headers=headers)\n",
    "print('Predictions')\n",
    "print(response.text)\n",
    "\n",
    "response = requests.post(webservice_url, json.dumps(test_data), headers=headers)\n",
    "print('Predictions')\n",
    "print(response.text)"
   ]
  },
  {
   "cell_type": "code",
   "execution_count": null,
   "metadata": {},
   "outputs": [],
   "source": []
  }
 ],
 "metadata": {
  "kernelspec": {
   "display_name": "Python 3.6 - AzureML",
   "language": "python",
   "name": "python3-azureml"
  },
  "language_info": {
   "codemirror_mode": {
    "name": "ipython",
    "version": 3
   },
   "file_extension": ".py",
   "mimetype": "text/x-python",
   "name": "python",
   "nbconvert_exporter": "python",
   "pygments_lexer": "ipython3",
   "version": "3.6.9"
  }
 },
 "nbformat": 4,
 "nbformat_minor": 2
}
